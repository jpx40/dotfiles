{
 "cells": [
  {
   "cell_type": "code",
   "execution_count": 2,
   "id": "2126c261-cd7e-4778-be35-03975a965115",
   "metadata": {},
   "outputs": [
    {
     "data": {
      "text/plain": [
       "3.0"
      ]
     },
     "execution_count": 2,
     "metadata": {},
     "output_type": "execute_result"
    }
   ],
   "source": [
    "(1+2.0)::AbstractFloat"
   ]
  },
  {
   "cell_type": "code",
   "execution_count": 5,
   "id": "b03d4c3e-4b97-4be6-a2f4-57c798d04f49",
   "metadata": {},
   "outputs": [
    {
     "data": {
      "text/plain": [
       "round_num (generic function with 1 method)"
      ]
     },
     "execution_count": 5,
     "metadata": {},
     "output_type": "execute_result"
    }
   ],
   "source": [
    "function round_num(num)\n",
    "    round(num, digits=3)\n",
    "end"
   ]
  },
  {
   "cell_type": "code",
   "execution_count": 8,
   "id": "042d1dfe-adf2-4c4a-b5e5-1dd98431794b",
   "metadata": {},
   "outputs": [
    {
     "data": {
      "text/plain": [
       "7.416"
      ]
     },
     "execution_count": 8,
     "metadata": {},
     "output_type": "execute_result"
    }
   ],
   "source": [
    "1:10 |> sum |> sqrt |> round_num"
   ]
  },
  {
   "cell_type": "code",
   "execution_count": null,
   "id": "2a1de689-0f91-4381-bd43-71061aafcba9",
   "metadata": {},
   "outputs": [],
   "source": []
  }
 ],
 "metadata": {
  "kernelspec": {
   "display_name": "Julia 1.9.4",
   "language": "julia",
   "name": "julia-1.9"
  },
  "language_info": {
   "file_extension": ".jl",
   "mimetype": "application/julia",
   "name": "julia",
   "version": "1.9.4"
  }
 },
 "nbformat": 4,
 "nbformat_minor": 5
}
